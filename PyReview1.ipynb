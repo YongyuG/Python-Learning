{
 "cells": [
  {
   "cell_type": "code",
   "execution_count": 2,
   "metadata": {
    "collapsed": true
   },
   "outputs": [],
   "source": [
    "from collections import Iterable"
   ]
  },
  {
   "cell_type": "code",
   "execution_count": 3,
   "metadata": {},
   "outputs": [
    {
     "data": {
      "text/plain": [
       "True"
      ]
     },
     "execution_count": 3,
     "metadata": {},
     "output_type": "execute_result"
    }
   ],
   "source": [
    "isinstance('abc',Iterable)"
   ]
  },
  {
   "cell_type": "code",
   "execution_count": 8,
   "metadata": {
    "scrolled": true
   },
   "outputs": [
    {
     "name": "stdout",
     "output_type": "stream",
     "text": [
      "0 A\n",
      "1 B\n",
      "2 C\n"
     ]
    }
   ],
   "source": [
    "#Saved time, start from list\n",
    "for i,value in enumerate(['A','B','C']):\n",
    "    print(i,value)"
   ]
  },
  {
   "cell_type": "code",
   "execution_count": 11,
   "metadata": {},
   "outputs": [
    {
     "name": "stdout",
     "output_type": "stream",
     "text": [
      "3 5\n",
      "2 5\n",
      "7 8\n"
     ]
    }
   ],
   "source": [
    "for x,y in [(3,5),(2,5),(7,8)]:\n",
    "    print(x,y)"
   ]
  },
  {
   "cell_type": "code",
   "execution_count": 15,
   "metadata": {},
   "outputs": [
    {
     "data": {
      "text/plain": [
       "[0, 1, 2, 3, 4, 5, 6, 7, 8, 9]"
      ]
     },
     "execution_count": 15,
     "metadata": {},
     "output_type": "execute_result"
    }
   ],
   "source": [
    "list(range(10))"
   ]
  },
  {
   "cell_type": "code",
   "execution_count": 16,
   "metadata": {},
   "outputs": [
    {
     "name": "stdout",
     "output_type": "stream",
     "text": [
      "[0, 1, 4, 9, 16, 25, 36, 49, 64, 81]\n"
     ]
    }
   ],
   "source": [
    "L=[]\n",
    "for x in range(10):\n",
    "    L.append(x*x)\n",
    "print(L)"
   ]
  },
  {
   "cell_type": "code",
   "execution_count": 19,
   "metadata": {},
   "outputs": [
    {
     "name": "stdout",
     "output_type": "stream",
     "text": [
      "[0, 1, 4, 9, 16, 25, 36, 49, 64, 81]\n"
     ]
    }
   ],
   "source": [
    "print([x*x for x in range(10)])"
   ]
  },
  {
   "cell_type": "code",
   "execution_count": 20,
   "metadata": {},
   "outputs": [
    {
     "data": {
      "text/plain": [
       "[0, 4, 16, 36, 64]"
      ]
     },
     "execution_count": 20,
     "metadata": {},
     "output_type": "execute_result"
    }
   ],
   "source": [
    "[x*x for x in range(10) if x%2==0]"
   ]
  },
  {
   "cell_type": "code",
   "execution_count": 26,
   "metadata": {},
   "outputs": [
    {
     "data": {
      "text/plain": [
       "[2, 12]"
      ]
     },
     "execution_count": 26,
     "metadata": {},
     "output_type": "execute_result"
    }
   ],
   "source": [
    "[x*y for x,y in [(1,2),(3,4)]if x<y]"
   ]
  },
  {
   "cell_type": "code",
   "execution_count": 28,
   "metadata": {},
   "outputs": [
    {
     "data": {
      "text/plain": [
       "['AX', 'AY', 'AZ', 'BX', 'BY', 'BZ', 'CX', 'CY', 'CZ']"
      ]
     },
     "execution_count": 28,
     "metadata": {},
     "output_type": "execute_result"
    }
   ],
   "source": [
    "[m+n for m in'ABC' for n in 'XYZ']"
   ]
  },
  {
   "cell_type": "code",
   "execution_count": 31,
   "metadata": {},
   "outputs": [
    {
     "data": {
      "text/plain": [
       "['Algorithms',\n",
       " 'MachineLearningThings',\n",
       " '.ipynb_checkpoints',\n",
       " 'Untitled.ipynb',\n",
       " 'tmp',\n",
       " 'Tensorflow',\n",
       " 'anaconda3',\n",
       " 'PyPractise',\n",
       " '.git']"
      ]
     },
     "execution_count": 31,
     "metadata": {},
     "output_type": "execute_result"
    }
   ],
   "source": [
    "import os\n",
    "[d for d in os.listdir('.')]"
   ]
  },
  {
   "cell_type": "code",
   "execution_count": 35,
   "metadata": {},
   "outputs": [
    {
     "name": "stdout",
     "output_type": "stream",
     "text": [
      "x = A\n",
      "y = B\n",
      "z = C\n"
     ]
    }
   ],
   "source": [
    "d={'x':'A','y':'B','z':'C'}\n",
    "for k,v in d.items():\n",
    "    print(k, '=', v)"
   ]
  },
  {
   "cell_type": "code",
   "execution_count": 37,
   "metadata": {},
   "outputs": [
    {
     "data": {
      "text/plain": [
       "['x=A', 'y=B', 'z=C']"
      ]
     },
     "execution_count": 37,
     "metadata": {},
     "output_type": "execute_result"
    }
   ],
   "source": [
    "[k+'='+v for k,v in d.items()]"
   ]
  },
  {
   "cell_type": "code",
   "execution_count": 39,
   "metadata": {},
   "outputs": [
    {
     "data": {
      "text/plain": [
       "['hello', 'world', 'ibm', 'apple']"
      ]
     },
     "execution_count": 39,
     "metadata": {},
     "output_type": "execute_result"
    }
   ],
   "source": [
    "L=['HELLO','WORLD','IBM','APPLE']\n",
    "[s.lower() for s in L]"
   ]
  },
  {
   "cell_type": "code",
   "execution_count": 47,
   "metadata": {},
   "outputs": [
    {
     "name": "stdout",
     "output_type": "stream",
     "text": [
      "[0, 1, 4, 9, 16, 25, 36, 49, 64, 81, 100]\n",
      "<generator object <genexpr> at 0x7f28784e71a8>\n"
     ]
    }
   ],
   "source": [
    "#生成器generator save the memory 一遍循环一遍计算\n",
    "#把list生成式的[]改成()即可\n",
    "L=[x*x for x in range(11)]\n",
    "print(L)\n",
    "g=(x*x for x in range(11))\n",
    "print(g)"
   ]
  },
  {
   "cell_type": "code",
   "execution_count": 76,
   "metadata": {},
   "outputs": [
    {
     "name": "stdout",
     "output_type": "stream",
     "text": [
      "0\n",
      "1\n",
      "4\n",
      "9\n",
      "16\n",
      "25\n",
      "36\n",
      "49\n",
      "64\n",
      "81\n",
      "100\n"
     ]
    }
   ],
   "source": [
    "# g 是一个generator,生成器，要打印每一个元素需要用函数next()来获得生成器的返回值\n",
    "\n",
    "#next(g)\n",
    "\n",
    "#generator 是保存算法　\n",
    "#正确用迭代输出生成器的结果的方法如下\n",
    "g=(x*x for x in range(11))\n",
    "for n in g:\n",
    "    print(n)"
   ]
  },
  {
   "cell_type": "code",
   "execution_count": 78,
   "metadata": {},
   "outputs": [
    {
     "name": "stdout",
     "output_type": "stream",
     "text": [
      "1\n",
      "1\n",
      "2\n",
      "3\n",
      "5\n",
      "8\n"
     ]
    },
    {
     "data": {
      "text/plain": [
       "'done'"
      ]
     },
     "execution_count": 78,
     "metadata": {},
     "output_type": "execute_result"
    }
   ],
   "source": [
    "#Generator using Fibonacci\n",
    "def fib(max):\n",
    "    n,a,b=0,0,1\n",
    "    while n<max:\n",
    "        print(b)\n",
    "        a,b=b,a+b\n",
    "        n+=1\n",
    "    return'done'\n",
    "fib(6)\n",
    "# 把上面的函数变成ｇｅｎｅｒａｔｏｒ　只要把print(b)变成yield b即可"
   ]
  },
  {
   "cell_type": "code",
   "execution_count": 123,
   "metadata": {},
   "outputs": [
    {
     "name": "stdout",
     "output_type": "stream",
     "text": [
      "1\n",
      "1\n",
      "2\n",
      "3\n",
      "5\n",
      "8\n"
     ]
    }
   ],
   "source": [
    "def fib(max):\n",
    "    n,a,b=0,0,1\n",
    "    while n<max:\n",
    "        yield(b)\n",
    "        a,b=b,a+b\n",
    "        n+=1\n",
    "    return'done'\n",
    "#如果一个函数内包含yield,那么这个函数是一个generator\n",
    "f=fib(6)\n",
    "f\n",
    "for x in f:\n",
    "    print(x)"
   ]
  },
  {
   "cell_type": "code",
   "execution_count": 133,
   "metadata": {},
   "outputs": [
    {
     "name": "stdout",
     "output_type": "stream",
     "text": [
      "step 1\n",
      "step 3\n",
      "step 5\n"
     ]
    },
    {
     "data": {
      "text/plain": [
       "5"
      ]
     },
     "execution_count": 133,
     "metadata": {},
     "output_type": "execute_result"
    }
   ],
   "source": [
    "def odd():\n",
    "    print('step 1')\n",
    "    yield 1\n",
    "    print('step 3')\n",
    "    yield 3\n",
    "    print('step 5')\n",
    "    yield 5\n",
    "o=odd()\n",
    "next(o)\n",
    "next(o)\n",
    "next(o)\n",
    "#next(o)\n",
    "#　generator遇到yield返回，而普通函数遇到return或者最后一句返回\n"
   ]
  },
  {
   "cell_type": "code",
   "execution_count": 141,
   "metadata": {},
   "outputs": [
    {
     "name": "stdout",
     "output_type": "stream",
     "text": [
      "g: 1\n",
      "g: 1\n",
      "g: 2\n",
      "g: 3\n",
      "g: 5\n",
      "g: 8\n",
      "Generator return value done\n",
      "0\n"
     ]
    }
   ],
   "source": [
    "#generator 普通情况下拿不到返回值，如果要拿到返回值，\n",
    "#必须捕获StopIteration的错误　返回值在stop iteration　value 中\n",
    "g=fib(6)\n",
    "while True:\n",
    "    try:\n",
    "        x=next(g)\n",
    "        print('g:' ,x)\n",
    "    except StopIteration as e:\n",
    "        print('Generator return value',e.value)\n",
    "        break\n",
    "for i in range(1):\n",
    "    print(i)"
   ]
  },
  {
   "cell_type": "code",
   "execution_count": 165,
   "metadata": {},
   "outputs": [
    {
     "name": "stdout",
     "output_type": "stream",
     "text": [
      "[1]\n",
      "[1, 1]\n",
      "[1, 2, 1]\n",
      "[1, 3, 3, 1]\n",
      "[1, 4, 6, 4, 1]\n",
      "[1, 5, 10, 10, 5, 1]\n",
      "[1, 6, 15, 20, 15, 6, 1]\n",
      "[1, 7, 21, 35, 35, 21, 7, 1]\n",
      "[1, 8, 28, 56, 70, 56, 28, 8, 1]\n",
      "[1, 9, 36, 84, 126, 126, 84, 36, 9, 1]\n"
     ]
    }
   ],
   "source": [
    "#杨辉三角的生成器练习\n",
    "def triangles():\n",
    "    L=[1]\n",
    "    n=len(L)\n",
    "    while True:\n",
    "        yield L\n",
    "        L.append(0)\n",
    "        #for x in range(n+1):\n",
    "        #    print(x,L[x-1],L[x],L,L[x-1]+L[x])\n",
    "        L=[L[x-1]+L[x] for x in range(n+1)]\n",
    "        #这里的原理是，在计算下一行时先在原有的基础上后加个０，\n",
    "        #使的整个list　变成下一行的长度，然后进行相加\n",
    "        #将此代码for loop print出来可以理解\n",
    "        n+=1\n",
    "\n",
    "n=0\n",
    "results=[]\n",
    "for t in triangles():\n",
    "    print(t)\n",
    "    results.append(t)\n",
    "    n+=1\n",
    "    if n==10:\n",
    "        break\n"
   ]
  },
  {
   "cell_type": "code",
   "execution_count": 169,
   "metadata": {},
   "outputs": [
    {
     "name": "stdout",
     "output_type": "stream",
     "text": [
      "True\n",
      "True\n"
     ]
    }
   ],
   "source": [
    "#迭代器\n",
    "# Instance()可以用来判断一个对象是否是Iterable对象:\n",
    "from collections import Iterable\n",
    "print(isinstance([],Iterable))\n",
    "print(isinstance((x for x in range(10)),Iterable))"
   ]
  },
  {
   "cell_type": "code",
   "execution_count": 173,
   "metadata": {},
   "outputs": [
    {
     "name": "stdout",
     "output_type": "stream",
     "text": [
      "False\n",
      "True\n"
     ]
    }
   ],
   "source": [
    "#可以被next()函数调用并不断返回下一个值的对象称为迭代器　Iterator\n",
    "#用isinstance判断一个对象是否是Ｉｔｅｒａｔｏｒ对象\n",
    "from collections import Iterator\n",
    "print(isinstance([],Iterator))\n",
    "\n",
    "#list dict str不是迭代器但可以被迭代\n",
    "#变成迭代器的方法是用iter()函数\n",
    "\n",
    "print(isinstance(iter([]),Iterator))\n"
   ]
  },
  {
   "cell_type": "code",
   "execution_count": 178,
   "metadata": {},
   "outputs": [
    {
     "name": "stdout",
     "output_type": "stream",
     "text": [
      "11\n"
     ]
    }
   ],
   "source": [
    "#高阶函数，函数的参数中调用其他函数\n",
    "#例子\n",
    "def add(x,y,f):\n",
    "    return f(x)+f(y)\n",
    "x=-5\n",
    "y=6\n",
    "f=abs\n",
    "print(add(x,y,f))"
   ]
  },
  {
   "cell_type": "code",
   "execution_count": 184,
   "metadata": {},
   "outputs": [
    {
     "name": "stdout",
     "output_type": "stream",
     "text": [
      "[1, 4, 9, 16, 25, 36, 49, 64, 81]\n"
     ]
    },
    {
     "data": {
      "text/plain": [
       "['1', '2', '3', '4', '5', '6']"
      ]
     },
     "execution_count": 184,
     "metadata": {},
     "output_type": "execute_result"
    }
   ],
   "source": [
    "#MapReduce from Google Essay Simplified Data Processing on Larger CLusters\n",
    "\n",
    "#map()两个参数,一个是函数，一个是Iterable,可以是list,dict,tuple等,\n",
    "#map讲函数依次作用到序列每个元素，把结果作为新的Iterator返回\n",
    "\n",
    "#举例说明，比如我们有一个函数f(x)=x*x，\n",
    "#要把这个函数作用在一个list [1, 2, 3, 4, 5, 6, 7, 8, 9]上，\n",
    "#就可以用map()实现如下：\n",
    "\n",
    "def f1(x):\n",
    "    return x*x\n",
    "r=map(f1,[1, 2, 3, 4, 5, 6, 7, 8, 9])\n",
    "print(list(r))  #list()计算序列　并且返回一个list\n",
    "\n",
    "#map　做字符串转换\n",
    "list(map(str,[1,2,3,4,5,6]))"
   ]
  },
  {
   "cell_type": "code",
   "execution_count": 237,
   "metadata": {},
   "outputs": [
    {
     "name": "stdout",
     "output_type": "stream",
     "text": [
      "13579\n",
      "<class 'int'>\n",
      "['Adam', 'Lisa', 'Bart']\n",
      "3 * 5 * 7 * 9 = 945\n",
      "测试成功!\n",
      "3\n",
      "123.456\n",
      "3\n",
      "123.456\n",
      "str2float('123.456') = 123.456\n",
      "3\n",
      "123.456\n",
      "测试成功!\n"
     ]
    }
   ],
   "source": [
    "#reduce 把一个函数作用在一个序列[x1,x2,x3...]上，reduce会把结果继续和序列做积累计算\n",
    "#举例\n",
    "#reduce(f,[x1,x2,x3,x4])＝f(f(f(x1,x2),x3),x4)\n",
    "#序列求和用reduce\n",
    "from functools import reduce\n",
    "def add(x,y):\n",
    "    return x+y\n",
    "reduce(add,[1,3,5,7,9])\n",
    "#这是个举例，求和用sum即可\n",
    "\n",
    "#但是把[1,3,5,7,9]变成　１３５７９用reduce\n",
    "def fn(x,y):\n",
    "    return x*10+y\n",
    "reduce(fn,[1,3,5,7,9])\n",
    "\n",
    "#str 转换　int的函数\n",
    "def char2num(s):\n",
    "    digits = {'0': 0, '1': 1, '2': 2, '3': 3, '4': 4, '5': 5, '6': 6, '7': 7, '8': 8, '9': 9}\n",
    "    return digits[s]\n",
    "print(reduce(fn,map(char2num,'13579')))\n",
    "print(type(reduce(fn,map(char2num,'13579'))\n",
    "))\n",
    "\n",
    "#str to int函数\n",
    "digits = {'0': 0, '1': 1, '2': 2, '3': 3, '4': 4, '5': 5, '6': 6, '7': 7, '8': 8, '9': 9}\n",
    "def str2int(s):\n",
    "    def fn(x,y):\n",
    "        return x+y\n",
    "    def char2num(s):\n",
    "        return digits[s]\n",
    "    return reduce(fn,map(char2num,s))\n",
    "\n",
    "#lambda简化\n",
    "def char2num1(s):\n",
    "    return digits[s]\n",
    "def str2int1(s):\n",
    "    return reduce(lambda x,y:x*10+y,map(cha2num1,s))\n",
    "\n",
    "#名字标准化\n",
    "def normalize(name):\n",
    "    return name.title()\n",
    "L1 = ['adam', 'LISA', 'barT']\n",
    "L2 = list(map(normalize, L1))\n",
    "print(L2)\n",
    "#乘法运算\n",
    "def prod(L):\n",
    "    return reduce(lambda x,y:x*y,L)\n",
    "print('3 * 5 * 7 * 9 =', prod([3, 5, 7, 9]))\n",
    "if prod([3, 5, 7, 9]) == 945:\n",
    "    print('测试成功!')\n",
    "else:\n",
    "    print('测试失败!')\n",
    "#字符串浮点数转换\n",
    "def str2float(s):\n",
    "    digits = {'0': 0, '1': 1, '2': 2, '3': 3, '4': 4, '5': 5, '6': 6, '7': 7, '8': 8, '9': 9}\n",
    "    n=s[::-1].find('.')\n",
    "    left,right=s.split('.')\n",
    "    print(n)\n",
    "    integral=reduce(lambda x,y:x*10+y,map(lambda c:digits[c],left))\n",
    "    decimal=reduce(lambda x,y:x*10+y,map(lambda c:digits[c],right))\n",
    "    print(integral+decimal/10**n)\n",
    "    return integral+decimal/10**n\n",
    "\n",
    "str2float('123.456')\n",
    "print('str2float(\\'123.456\\') =', str2float('123.456'))\n",
    "if abs(str2float('123.456') - 123.456) < 0.00001:\n",
    "    print('测试成功!')\n",
    "else:\n",
    "    print('测试失败!')\n",
    "\n"
   ]
  },
  {
   "cell_type": "code",
   "execution_count": 251,
   "metadata": {},
   "outputs": [
    {
     "name": "stdout",
     "output_type": "stream",
     "text": [
      "[1, 3, 5, 17]\n",
      "2\n",
      "3\n",
      "5\n",
      "7\n",
      "11\n",
      "13\n",
      "17\n",
      "19\n",
      "23\n",
      "29\n",
      "31\n",
      "37\n",
      "41\n",
      "43\n",
      "47\n",
      "53\n",
      "59\n",
      "61\n",
      "67\n",
      "71\n",
      "73\n",
      "79\n",
      "83\n",
      "89\n",
      "97\n"
     ]
    }
   ],
   "source": [
    "#filter 筛选函数\n",
    "#＃＃＃＃＃＃筛选奇数＃＃＃＃＃＃＃\n",
    "def is_odd(n):\n",
    "    return n%2==1\n",
    "print(list(filter(is_odd,[1,2,3,4,5,6,712,4,17,8])))\n",
    "\n",
    "#filter求素数\n",
    "\n",
    "#构造一个３开始的奇数序列\n",
    "def _odd_iter():\n",
    "    n=1\n",
    "    while True:\n",
    "        n=n+2\n",
    "        yield n\n",
    "#筛选函数，用余数大于０来判断\n",
    "def _not_divisible(n):\n",
    "    return lambda x:x%n>0\n",
    "\n",
    "#定义生成器　一直返回下一个素数\n",
    "def primes():\n",
    "    yield 2\n",
    "    it=_odd_iter()\n",
    "    while True:\n",
    "        n=next(it)\n",
    "        yield n\n",
    "        it=filter(_not_divisible(n),it)\n",
    "\n",
    "for n in primes():\n",
    "    if n<100:\n",
    "        print(n)\n",
    "    else:\n",
    "        break\n"
   ]
  },
  {
   "cell_type": "code",
   "execution_count": 1,
   "metadata": {
    "scrolled": true
   },
   "outputs": [
    {
     "name": "stdout",
     "output_type": "stream",
     "text": [
      "1~1000: [1, 2, 3, 4, 5, 6, 7, 8, 9, 11, 22, 33, 44, 55, 66, 77, 88, 99, 101, 111, 121, 131, 141, 151, 161, 171, 181, 191, 202, 212, 222, 232, 242, 252, 262, 272, 282, 292, 303, 313, 323, 333, 343, 353, 363, 373, 383, 393, 404, 414, 424, 434, 444, 454, 464, 474, 484, 494, 505, 515, 525, 535, 545, 555, 565, 575, 585, 595, 606, 616, 626, 636, 646, 656, 666, 676, 686, 696, 707, 717, 727, 737, 747, 757, 767, 777, 787, 797, 808, 818, 828, 838, 848, 858, 868, 878, 888, 898, 909, 919, 929, 939, 949, 959, 969, 979, 989, 999]\n",
      "测试成功!\n"
     ]
    }
   ],
   "source": [
    "#筛选出回数\n",
    "def is_palindrome(n):\n",
    "    l=str(n)\n",
    "    return l==l[::-1]\n",
    "output = filter(is_palindrome, range(1, 1000))\n",
    "print('1~1000:', list(output))\n",
    "if list(filter(is_palindrome, range(1, 200))) == [1, 2, 3, 4, 5, 6, 7, 8, 9, 11, 22, 33, 44, 55, 66, 77, 88, 99, 101, 111, 121, 131, 141, 151, 161, 171, 181, 191]:\n",
    "    print('测试成功!')\n",
    "else:\n",
    "    print('测试失败!')\n"
   ]
  },
  {
   "cell_type": "code",
   "execution_count": 13,
   "metadata": {},
   "outputs": [
    {
     "data": {
      "text/plain": [
       "'(a-b)/(c+d)'"
      ]
     },
     "execution_count": 13,
     "metadata": {},
     "output_type": "execute_result"
    }
   ],
   "source": [
    "def cal(n1,n2,op):\n",
    "    if op=='+':\n",
    "        return '('+n1+op+n2+')'\n",
    "    if op=='-':\n",
    "        return '('+n1+op+n2+')' \n",
    "    if op=='*':\n",
    "        return n1+op+n2\n",
    "    if op=='/':\n",
    "        return n1+op+n2\n",
    "    if op=='^':\n",
    "        return n1+op+n2\n",
    "expr='ab-cd+/'\n",
    "stack_value=[]\n",
    "for item in expr:\n",
    "    if item in ['+', '-', '*', '/']:\n",
    "        n2 = stack_value.pop()\n",
    "        n1 = stack_value.pop()\n",
    "        result = cal(n1, n2, item)\n",
    "        stack_value.append(result)\n",
    "    else:\n",
    "        stack_value.append(item)\n",
    "\n",
    "    \n",
    "stack_value[0]"
   ]
  },
  {
   "cell_type": "code",
   "execution_count": 100,
   "metadata": {},
   "outputs": [
    {
     "name": "stdout",
     "output_type": "stream",
     "text": [
      "['ab+cc']\n",
      "ab+cc\n"
     ]
    },
    {
     "data": {
      "text/plain": [
       "'a+b'"
      ]
     },
     "execution_count": 100,
     "metadata": {},
     "output_type": "execute_result"
    }
   ],
   "source": [
    "import string\n",
    "def cal(n1,n2,op):\n",
    "    if op=='+':\n",
    "        return '('+n1+op+n2+')'\n",
    "    if op=='-':\n",
    "        return '('+n1+op+n2+')' \n",
    "    if op=='*':\n",
    "        return n1+op+n2\n",
    "    if op=='/':\n",
    "        return n1+op+n2\n",
    "    if op=='^':\n",
    "        return n1+op+n2  \n",
    "    \n",
    "def postfix_to_infix(expression):\n",
    "    stack_value=[]\n",
    "    check=[]\n",
    "    ddd=string.ascii_letters+'+-\\^/'\n",
    "    print(expression.split())\n",
    "    expression=expression.replace(' ','')\n",
    "    print(expression)\n",
    "    for item in expression:\n",
    "        if item not in ddd:\n",
    "            #print('Invalid')\n",
    "            return 'INvalid'\n",
    "        if item in ddd:\n",
    "            if item in ['+','-','*','/','^']: #meet the operator \n",
    "                check.append(item)\n",
    "                n2=stack_value.pop()          #pick up two number before this operator \n",
    "                n1=stack_value.pop()           \n",
    "                result=cal(n1,n2,item)         #do calculation via operator\n",
    "                stack_value.append(result)      #store adavanced calculation for nextc\n",
    "            else:\n",
    "                stack_value.append(item)  #add number\n",
    "    #print(stack_value)\n",
    "    if len(check)<=1:\n",
    "        return stack_value[0].replace('(','').replace(')','')\n",
    "    else:\n",
    "        return stack_value[0]\n",
    "    #return stack_value[0]\n",
    "expr='ab+cc'\n",
    "postfix_to_infix(expr)"
   ]
  },
  {
   "cell_type": "code",
   "execution_count": null,
   "metadata": {},
   "outputs": [],
   "source": []
  },
  {
   "cell_type": "code",
   "execution_count": null,
   "metadata": {
    "collapsed": true
   },
   "outputs": [],
   "source": []
  }
 ],
 "metadata": {
  "kernelspec": {
   "display_name": "Python 3",
   "language": "python",
   "name": "python3"
  },
  "language_info": {
   "codemirror_mode": {
    "name": "ipython",
    "version": 3
   },
   "file_extension": ".py",
   "mimetype": "text/x-python",
   "name": "python",
   "nbconvert_exporter": "python",
   "pygments_lexer": "ipython3",
   "version": "3.6.2"
  }
 },
 "nbformat": 4,
 "nbformat_minor": 2
}
