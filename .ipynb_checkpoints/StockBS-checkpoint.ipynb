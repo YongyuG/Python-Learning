{
 "cells": [
  {
   "cell_type": "code",
   "execution_count": 4,
   "metadata": {},
   "outputs": [
    {
     "name": "stdout",
     "output_type": "stream",
     "text": [
      "The best time for buying stock is 14, and selling stock is 24\n",
      "('14', '24', 14.95)\n",
      "((10, 12), (0.01, 15))\n",
      "0\n",
      "0\n",
      "(14.95, ('24', '15'))\n"
     ]
    }
   ],
   "source": [
    "#Given a sequence of data (time,price) for stock\n",
    "#Select the best buy and sell time\n",
    "\n",
    "\n",
    "def readdata(file): #read data and store time,price as an tuple in a list\n",
    "    l=[]\n",
    "    result=0\n",
    "    tmp=0\n",
    "    for line in open(file):\n",
    "        lines=line.split()\n",
    "        l.append((lines[0],lines[1]))\n",
    "    return l\n",
    "\n",
    "            \n",
    "def maxProfit(prices): #Simple way O(n^2) start buy all the situatio from the beginning and sell in following, find the max\n",
    "    result=0\n",
    "    tmp=0\n",
    "    for i in range(len(prices)-1):\n",
    "        for j in range(i+1,len(prices)):\n",
    "            result=max(result,float(prices[j][1])-float(prices[i][1]))\n",
    "            if result>tmp:\n",
    "                #print(prices[j],prices[i])\n",
    "                buy_time=prices[i][0]\n",
    "                sell_time=prices[j][0]\n",
    "            tmp=result\n",
    "    print('The best time for buying stock is %s, and selling stock is %s'%(buy_time,sell_time))\n",
    "    return buy_time,sell_time,result\n",
    "\n",
    "def maxProfit_dp(prices):#dynamic programming,only select the price that increase the profit\n",
    "    tmp_pr = prices[0]\n",
    "    result = 0               \n",
    "    check=0\n",
    "    for p in prices:\n",
    "        check=result\n",
    "        result = max(result, p-tmp_pr)\n",
    "        tmp_pr = min(tmp_pr, p)   \n",
    "        \n",
    "        if result>check: #update sell,buy index\n",
    "            sell=prices.index(p)\n",
    "            buy=prices.index(round(p-result,3))\n",
    "    return (buy,sell),(prices[buy],prices[sell])\n",
    "\n",
    "\n",
    "\n",
    "def maxprofit_dp2(prices):#Same algorithm as above, but this data is from file, you dont need to read this\n",
    "    result=0 \n",
    "    tmp_pr=prices[0][1]\n",
    "    i,j=0,0\n",
    "    check=0\n",
    "    \n",
    "    tmp=[]\n",
    "    for p in prices:\n",
    "        check=result\n",
    "        result=max(result,float(p[1])-float(tmp_pr))\n",
    "        tmp_pr=min(tmp_pr,p[1])\n",
    "        #print(result,p,p[1])\n",
    "        tmp.append((float(p[1])-result))\n",
    "        \n",
    "        if result>check:\n",
    "            sell=prices.index(p)\n",
    "    for i in tmp:\n",
    "        if float(prices[sell][1])-i==result:\n",
    "            print(round(i,3))\n",
    "    return result,prices[sell]\n",
    "\n",
    "if __name__ =='__main__':\n",
    "    data=readdata('time_prices')#time_prices is a file to test, format is  'time prices' eg '9.0 5'\n",
    "    test=[10,5,4.8,4,5.2,5.37,6.2,6.17,0.05,10,0.01,0.02,15,0.4,0.1,0]\n",
    "    print(maxProfit(data))\n",
    "    print(maxProfit_dp(test))\n",
    "    print(maxprofit_dp2(data))\n"
   ]
  }
 ],
 "metadata": {
  "kernelspec": {
   "display_name": "Python 3",
   "language": "python",
   "name": "python3"
  },
  "language_info": {
   "codemirror_mode": {
    "name": "ipython",
    "version": 3
   },
   "file_extension": ".py",
   "mimetype": "text/x-python",
   "name": "python",
   "nbconvert_exporter": "python",
   "pygments_lexer": "ipython3",
   "version": "3.6.2"
  }
 },
 "nbformat": 4,
 "nbformat_minor": 2
}
